{
 "cells": [
  {
   "cell_type": "code",
   "execution_count": 12,
   "id": "dacfd688",
   "metadata": {},
   "outputs": [],
   "source": [
    "class BaseTokenizer:\n",
    "\n",
    "    def __init__(self, str_token):\n",
    "        self.str_token = str_token\n",
    "\n",
    "    def __iter__(self):\n",
    "        yield from self.str_token.split(\"-\")"
   ]
  },
  {
   "cell_type": "code",
   "execution_count": 18,
   "id": "5f3c6b38",
   "metadata": {},
   "outputs": [
    {
     "data": {
      "text/plain": [
       "['28a2320b', 'fd3f', '4627', '9792', 'a2b38e3c46b0']"
      ]
     },
     "execution_count": 18,
     "metadata": {},
     "output_type": "execute_result"
    }
   ],
   "source": [
    "tk = BaseTokenizer(\"28a2320b-fd3f-4627-9792-a2b38e3c46b0\")\n",
    "list(tk)"
   ]
  },
  {
   "cell_type": "code",
   "execution_count": 14,
   "id": "82f1870c",
   "metadata": {},
   "outputs": [],
   "source": [
    "class UpperIterableMixin:\n",
    "    def __iter__(self):\n",
    "        return map(str.upper, super().__iter__())\n",
    "\n",
    "\n",
    "class Tokenizer(UpperIterableMixin, BaseTokenizer):\n",
    "    pass"
   ]
  },
  {
   "cell_type": "code",
   "execution_count": 15,
   "id": "98a4d189",
   "metadata": {},
   "outputs": [],
   "source": [
    "tk2 = Tokenizer(\"28a2320b-fd3f-4627-9792-a2b38e3c46b0\")"
   ]
  },
  {
   "cell_type": "code",
   "execution_count": 16,
   "id": "53a5ba10",
   "metadata": {},
   "outputs": [
    {
     "data": {
      "text/plain": [
       "['28A2320B', 'FD3F', '4627', '9792', 'A2B38E3C46B0']"
      ]
     },
     "execution_count": 16,
     "metadata": {},
     "output_type": "execute_result"
    }
   ],
   "source": [
    "list(tk2)"
   ]
  },
  {
   "cell_type": "code",
   "execution_count": 30,
   "id": "3ad34299",
   "metadata": {},
   "outputs": [],
   "source": [
    "class Sampler:\n",
    "\n",
    "    def __init__(self, name):\n",
    "        self.name = name\n",
    "        \n",
    "    def hola(self, string):\n",
    "        print(string)"
   ]
  },
  {
   "cell_type": "code",
   "execution_count": 32,
   "id": "63ca9530",
   "metadata": {},
   "outputs": [
    {
     "name": "stdout",
     "output_type": "stream",
     "text": [
      "123\n",
      "holi\n"
     ]
    }
   ],
   "source": [
    "tk = BaseTokenizer(\"123\")\n",
    "print(tk.name)\n",
    "tk.hola(\"holi\")"
   ]
  },
  {
   "cell_type": "code",
   "execution_count": 40,
   "id": "049352fd",
   "metadata": {},
   "outputs": [],
   "source": [
    "class RetryMixin:\n",
    "    \n",
    "    def __init__(self, name):\n",
    "        super().__init__(\"bla\")\n",
    "#         self.name = name + name\n",
    "        \n",
    "    def hola(self, string):\n",
    "        super().hola(string)\n",
    "        print(\"adios\")\n",
    "\n",
    "\n",
    "class RetrySampler(RetryMixin, Sampler):\n",
    "    pass"
   ]
  },
  {
   "cell_type": "code",
   "execution_count": 41,
   "id": "a2d551e1",
   "metadata": {},
   "outputs": [
    {
     "name": "stdout",
     "output_type": "stream",
     "text": [
      "bla\n",
      "holi\n",
      "adios\n"
     ]
    }
   ],
   "source": [
    "t = Tokenizer(\"abc\")\n",
    "print(t.name)\n",
    "t.hola(\"holi\")"
   ]
  },
  {
   "cell_type": "code",
   "execution_count": null,
   "id": "effdad48",
   "metadata": {},
   "outputs": [],
   "source": []
  }
 ],
 "metadata": {
  "kernelspec": {
   "display_name": "Python 3",
   "language": "python",
   "name": "python3"
  },
  "language_info": {
   "codemirror_mode": {
    "name": "ipython",
    "version": 3
   },
   "file_extension": ".py",
   "mimetype": "text/x-python",
   "name": "python",
   "nbconvert_exporter": "python",
   "pygments_lexer": "ipython3",
   "version": "3.10.2"
  }
 },
 "nbformat": 4,
 "nbformat_minor": 5
}
